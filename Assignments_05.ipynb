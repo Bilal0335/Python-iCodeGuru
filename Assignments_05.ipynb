{
  "nbformat": 4,
  "nbformat_minor": 0,
  "metadata": {
    "colab": {
      "provenance": []
    },
    "kernelspec": {
      "name": "python3",
      "display_name": "Python 3"
    },
    "language_info": {
      "name": "python"
    }
  },
  "cells": [
    {
      "cell_type": "markdown",
      "source": [
        "  ## *__Assignment_05__*\n",
        "\n",
        "1. Write a Python program to reverse a string.\n",
        "\n",
        "2. Write a Python program to check if a string is a palindrome.\n",
        "\n",
        "3. Write a Python program to check if a string contains only digits.\n",
        "\n",
        "4. Write a Python program to find the length of the last word in a sentence.\n",
        "\n",
        "  1. Name   \n",
        "  2. Age     \n",
        "  3. Country   \n",
        "  4. City\n",
        "\n",
        "5. Write a Python program to replace all occurrences of a substring with another substring.\n",
        "\n",
        "6. Write a Python program to remove all leading and trailing whitespaces from a string.\n",
        "\n",
        "7. Use string formatting methods to perform and display the following operations with two input numbers:\n",
        "\n",
        "  (hint; a, b)\n",
        "\n",
        "  a + b =  \n",
        "  \n",
        "  a - b =\n",
        "\n",
        "  a * b =\n"
      ],
      "metadata": {
        "id": "Qh406-uZl5gz"
      }
    },
    {
      "cell_type": "markdown",
      "source": [
        "## Reverse a String"
      ],
      "metadata": {
        "id": "BGqQViARtY6U"
      }
    },
    {
      "cell_type": "code",
      "source": [
        "reverse_string =input(\"Enter any sentence: \")\n",
        "print(reverse_string[::-1])"
      ],
      "metadata": {
        "colab": {
          "base_uri": "https://localhost:8080/"
        },
        "id": "q5Hw-DMB9gmX",
        "outputId": "7cd6db99-2560-4137-b2ff-2e526c18600c",
        "collapsed": true
      },
      "execution_count": null,
      "outputs": [
        {
          "output_type": "stream",
          "name": "stdout",
          "text": [
            "Enter any sentence: hello world\n",
            "dlrow olleh\n"
          ]
        }
      ]
    },
    {
      "cell_type": "markdown",
      "source": [
        "## Check if a String is a Palindrome"
      ],
      "metadata": {
        "id": "v7TfDvCDtcUE"
      }
    },
    {
      "cell_type": "code",
      "source": [
        "def is_palindrome(s):\n",
        "    s = s.lower().replace(\" \", \"\")\n",
        "    return s == s[::-1]\n",
        "\n",
        "# Example usage:\n",
        "s = input(\"Enter any string: \")\n",
        "print(is_palindrome(s))\n"
      ],
      "metadata": {
        "colab": {
          "base_uri": "https://localhost:8080/"
        },
        "id": "sHxrl8brijG0",
        "outputId": "d7e570b1-5e96-4e7a-bcb8-c84b27503f3b",
        "collapsed": true
      },
      "execution_count": 42,
      "outputs": [
        {
          "output_type": "stream",
          "name": "stdout",
          "text": [
            "Enter any string: A man a plan a canal Panama\n",
            "True\n"
          ]
        }
      ]
    },
    {
      "cell_type": "markdown",
      "source": [
        "## Check if a String Contains Only Digits"
      ],
      "metadata": {
        "id": "maIsf4_KuJRF"
      }
    },
    {
      "cell_type": "code",
      "source": [
        "only_digits = input(\"Enter any number: \")\n",
        "if only_digits.isdigit():\n",
        "  print(\"Yes\")\n",
        "else:\n",
        "  print(\"No\")"
      ],
      "metadata": {
        "colab": {
          "base_uri": "https://localhost:8080/"
        },
        "id": "CSkYwcKV-e1f",
        "outputId": "0d8aea70-3825-4eae-96ed-df173c3adabc",
        "collapsed": true
      },
      "execution_count": 43,
      "outputs": [
        {
          "output_type": "stream",
          "name": "stdout",
          "text": [
            "Enter any number: 6636636\n",
            "Yes\n"
          ]
        }
      ]
    },
    {
      "cell_type": "markdown",
      "source": [
        "## Find the Length of the Last Word in a Sentence & Personal Information"
      ],
      "metadata": {
        "id": "mZVj9PZtuOZu"
      }
    },
    {
      "cell_type": "code",
      "source": [
        "sentence = input(\"Enter any sentence: \")\n",
        "word = sentence.split();\n",
        "lentgth_of_last_word = len(word[-1]) if word else 0\n",
        "print(f\"Length of the last word in the senetence is {lentgth_of_last_word}\")\n",
        "\n",
        "print(f\"---------------------------------------\")\n",
        "#Personal Information\n",
        "name = input(\"Enter your name: \")\n",
        "age = int(input(\"Enter your age: \"))\n",
        "city = input(\"Enter your city: \")\n",
        "country = input(\"Enter your country: \")\n",
        "\n",
        "info = f\"{name}, {age} years old, from {city} {country}\"\n",
        "split_info = info.split()\n",
        "join_info = \" \".join(split_info)\n",
        "print(f\"---------------------------------------\")\n",
        "print(f\"Personal Information:\\n{join_info}\")"
      ],
      "metadata": {
        "id": "AUWXWkF6leKy",
        "colab": {
          "base_uri": "https://localhost:8080/"
        },
        "outputId": "83566201-2a90-49dd-b52b-5a2864698d8e",
        "collapsed": true
      },
      "execution_count": 44,
      "outputs": [
        {
          "output_type": "stream",
          "name": "stdout",
          "text": [
            "Enter any sentence: A man a plan a canal Panama\n",
            "Length of the last word in the senetence is 6\n",
            "---------------------------------------\n",
            "Enter your name: Bilal\n",
            "Enter your age: 20\n",
            "Enter your city: karachi\n",
            "Enter your country: Pakistan\n",
            "---------------------------------------\n",
            "Personal Information:\n",
            "Bilal, 20 years old, from karachi Pakistan\n"
          ]
        }
      ]
    },
    {
      "cell_type": "markdown",
      "source": [
        "## Replace All Occurrences of a Substring with Another Substring\n"
      ],
      "metadata": {
        "id": "PWw81wc3ub30"
      }
    },
    {
      "cell_type": "code",
      "source": [
        "s = \"Hello, World! World is beautiful.\"\n",
        "old_substring = \"World\"\n",
        "new_substring = \"Earth\"\n",
        "replaced_string = s.replace(old_substring, new_substring)\n",
        "print(replaced_string)\n"
      ],
      "metadata": {
        "colab": {
          "base_uri": "https://localhost:8080/"
        },
        "id": "ShBpc6wbrjt9",
        "outputId": "9642578b-62a4-4600-f5b4-8584908a99d0",
        "collapsed": true
      },
      "execution_count": null,
      "outputs": [
        {
          "output_type": "stream",
          "name": "stdout",
          "text": [
            "Hello, Earth! Earth is beautiful.\n"
          ]
        }
      ]
    },
    {
      "cell_type": "markdown",
      "source": [
        "## Remove All Leading and Trailing Whitespaces from a String"
      ],
      "metadata": {
        "id": "AFINqVxbuo61"
      }
    },
    {
      "cell_type": "code",
      "source": [
        "s = \"   Sindh Madressatul Islam University (BSSE)   \"\n",
        "stripped_string = s.strip()\n",
        "print(stripped_string)\n"
      ],
      "metadata": {
        "colab": {
          "base_uri": "https://localhost:8080/"
        },
        "id": "qHzeBPPxsUC0",
        "outputId": "68ae74da-a733-4387-84af-d7957d140ebe",
        "collapsed": true
      },
      "execution_count": null,
      "outputs": [
        {
          "output_type": "stream",
          "name": "stdout",
          "text": [
            "Sindh Madressatul Islam University (BSSE)\n"
          ]
        }
      ]
    },
    {
      "cell_type": "markdown",
      "source": [
        "## Perform and Display Arithmetic Operations with String Formatting"
      ],
      "metadata": {
        "id": "_oxethzEu7kV"
      }
    },
    {
      "cell_type": "code",
      "source": [
        "a = 5\n",
        "b = 3\n",
        "\n",
        "addition = a + b\n",
        "subtraction = a - b\n",
        "multiplication = a * b\n",
        "\n",
        "result = (\n",
        "    f\"a + b = {addition}\\n\"\n",
        "    f\"a - b = {subtraction}\\n\"\n",
        "    f\"a * b = {multiplication}\\n\"\n",
        ")\n",
        "print(result)\n"
      ],
      "metadata": {
        "colab": {
          "base_uri": "https://localhost:8080/"
        },
        "id": "4-2RnragskAc",
        "outputId": "9ce398cf-86bc-4226-fca1-576647f03596",
        "collapsed": true
      },
      "execution_count": null,
      "outputs": [
        {
          "output_type": "stream",
          "name": "stdout",
          "text": [
            "a + b = 8\n",
            "a - b = 2\n",
            "a * b = 15\n",
            "\n"
          ]
        }
      ]
    }
  ]
}