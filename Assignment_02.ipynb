{
  "nbformat": 4,
  "nbformat_minor": 0,
  "metadata": {
    "colab": {
      "provenance": []
    },
    "kernelspec": {
      "name": "python3",
      "display_name": "Python 3"
    },
    "language_info": {
      "name": "python"
    }
  },
  "cells": [
    {
      "cell_type": "markdown",
      "source": [
        "<center>\n",
        "Assignment_02\n",
        "\n",
        "Topic: __*Bitwise Operators*__\n",
        "</center>"
      ],
      "metadata": {
        "id": "_mNq19Xha9Ai"
      }
    },
    {
      "cell_type": "markdown",
      "source": [
        "**AND Operation Problem:**\n",
        "\n",
        "Calculate the result of the bitwise AND operation on the numbers 25 and 30.\n"
      ],
      "metadata": {
        "id": "A95mizZ2c4eA"
      }
    },
    {
      "cell_type": "code",
      "source": [
        "bitwise_and = 25 & 30\n",
        "print(f\"AND Operation (25 & 30): {bitwise_and} \")"
      ],
      "metadata": {
        "colab": {
          "base_uri": "https://localhost:8080/"
        },
        "id": "555ecbeXdCuw",
        "outputId": "e935ee23-575f-4de6-bc02-8c7dd2d3b8bc"
      },
      "execution_count": null,
      "outputs": [
        {
          "output_type": "stream",
          "name": "stdout",
          "text": [
            "AND Operation (25 & 30): 24 \n"
          ]
        }
      ]
    },
    {
      "cell_type": "markdown",
      "source": [
        "**OR Operation Problem:**\n",
        "\n",
        "Calculate the result of the bitwise OR operation on the numbers 45 and 25."
      ],
      "metadata": {
        "id": "q5mPb8jyeBSf"
      }
    },
    {
      "cell_type": "code",
      "source": [
        "bitwise_or = 45 | 25\n",
        "print(f\"OR Operation (45 | 25): {bitwise_or} \")"
      ],
      "metadata": {
        "colab": {
          "base_uri": "https://localhost:8080/"
        },
        "id": "Mw5-VJF_ey4X",
        "outputId": "87f7da43-929d-4ead-87f9-a74a899f4780"
      },
      "execution_count": null,
      "outputs": [
        {
          "output_type": "stream",
          "name": "stdout",
          "text": [
            "OR Operation (45 | 25): 61 \n"
          ]
        }
      ]
    },
    {
      "cell_type": "markdown",
      "source": [
        "**XOR Operation Problem:**\n",
        "\n",
        "Calculate the result of the bitwise XOR operation on the numbers 29 and 15."
      ],
      "metadata": {
        "id": "UClLl--zeAug"
      }
    },
    {
      "cell_type": "code",
      "source": [
        "bitwise_xor = 29 ^ 15\n",
        "print(f\"XOR Operation (29 ^ 15): {bitwise_xor} \")"
      ],
      "metadata": {
        "colab": {
          "base_uri": "https://localhost:8080/"
        },
        "id": "Ft6V8uGUe8Jw",
        "outputId": "9fd00844-6ab9-419b-ddf5-1e20c43d2446"
      },
      "execution_count": null,
      "outputs": [
        {
          "output_type": "stream",
          "name": "stdout",
          "text": [
            "XOR Operation (29 ^ 15): 18 \n"
          ]
        }
      ]
    },
    {
      "cell_type": "markdown",
      "source": [
        "**NOT Operation Problem:**\n",
        "\n",
        "Calculate the result of the bitwise NOT operation on the number 42."
      ],
      "metadata": {
        "id": "zbdzieNxeU0O"
      }
    },
    {
      "cell_type": "code",
      "source": [
        "bitwise_not = ~42\n",
        "print(f\"NOT Operation (~42): {bitwise_not} \")"
      ],
      "metadata": {
        "colab": {
          "base_uri": "https://localhost:8080/"
        },
        "id": "NH2UhH1QfAt3",
        "outputId": "c7b2e2dc-b9fe-4e3e-a8ba-c6b30ffe27a1"
      },
      "execution_count": null,
      "outputs": [
        {
          "output_type": "stream",
          "name": "stdout",
          "text": [
            "NOT Operation (~42): -43 \n"
          ]
        }
      ]
    },
    {
      "cell_type": "markdown",
      "source": [
        "**Shift Operations Problem:**\n",
        "\n",
        "Calculate the result of left shifting the number 15 by 3 positions.\n",
        "\n",
        "Calculate the result of right shifting the number 200 by 4 positions.\n"
      ],
      "metadata": {
        "id": "huIIVzkLeoz9"
      }
    },
    {
      "cell_type": "code",
      "source": [
        "left_shift = 15 << 3\n",
        "print(f\"Left Shift (15 << 3): {left_shift} \")"
      ],
      "metadata": {
        "colab": {
          "base_uri": "https://localhost:8080/"
        },
        "id": "Y5ema6X7fFum",
        "outputId": "31265aec-b6f2-4f10-91f0-dd19baadec7e"
      },
      "execution_count": null,
      "outputs": [
        {
          "output_type": "stream",
          "name": "stdout",
          "text": [
            "Left Shift (15 << 3): 120 \n"
          ]
        }
      ]
    },
    {
      "cell_type": "code",
      "source": [
        "rigth_shift = 200 >> 4\n",
        "print(f\"Right Shift (200 >> 4): {rigth_shift} \")"
      ],
      "metadata": {
        "colab": {
          "base_uri": "https://localhost:8080/"
        },
        "id": "CIaA1e0pfQAO",
        "outputId": "21afa7f3-88f5-4da3-fe9e-a8b99779c17f"
      },
      "execution_count": null,
      "outputs": [
        {
          "output_type": "stream",
          "name": "stdout",
          "text": [
            "Right Shift (200 >> 4): 12 \n"
          ]
        }
      ]
    }
  ]
}