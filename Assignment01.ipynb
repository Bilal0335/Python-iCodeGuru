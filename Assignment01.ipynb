{
  "nbformat": 4,
  "nbformat_minor": 0,
  "metadata": {
    "colab": {
      "provenance": []
    },
    "kernelspec": {
      "name": "python3",
      "display_name": "Python 3"
    },
    "language_info": {
      "name": "python"
    }
  },
  "cells": [
    {
      "cell_type": "markdown",
      "source": [
        "Q1. Write a Python program to print \"Hello, World!\"."
      ],
      "metadata": {
        "id": "-LJF-TjymqHb"
      }
    },
    {
      "cell_type": "code",
      "execution_count": null,
      "metadata": {
        "colab": {
          "base_uri": "https://localhost:8080/"
        },
        "id": "7SWqG4o4mlC7",
        "outputId": "e2001d6b-2f51-4828-9771-e5cc0ce5309c"
      },
      "outputs": [
        {
          "output_type": "stream",
          "name": "stdout",
          "text": [
            "Hello, World!\n"
          ]
        }
      ],
      "source": [
        "print(\"Hello, World!\")"
      ]
    },
    {
      "cell_type": "markdown",
      "source": [
        "Q2. Declare a variable name and assign your name to it. Print the value of the variable."
      ],
      "metadata": {
        "id": "kFPo8C5hm_nk"
      }
    },
    {
      "cell_type": "code",
      "source": [
        "name = \"Muhammad Bilal Hussain\""
      ],
      "metadata": {
        "id": "ZQ1mIPiKnA9L"
      },
      "execution_count": null,
      "outputs": []
    },
    {
      "cell_type": "code",
      "source": [
        "print(name)"
      ],
      "metadata": {
        "colab": {
          "base_uri": "https://localhost:8080/"
        },
        "id": "0dRq38v4nLAb",
        "outputId": "9f947fc6-c42e-4c94-94fd-68ac32ab51a3"
      },
      "execution_count": null,
      "outputs": [
        {
          "output_type": "stream",
          "name": "stdout",
          "text": [
            "Muhammad Bilal Hussain\n"
          ]
        }
      ]
    },
    {
      "cell_type": "markdown",
      "source": [
        "Q3. Declare variables using camelCase, snake_case, and PascalCase. Assign values to them and print each variable."
      ],
      "metadata": {
        "id": "e-yaZAkvnokv"
      }
    },
    {
      "cell_type": "code",
      "source": [
        "# camelCase\n",
        "camelCase = \"Hamza\"\n",
        "print(camelCase)"
      ],
      "metadata": {
        "colab": {
          "base_uri": "https://localhost:8080/"
        },
        "id": "KY6AVIH4nuAq",
        "outputId": "1d4afb99-ce18-457d-92de-f9b664fd13be"
      },
      "execution_count": null,
      "outputs": [
        {
          "output_type": "stream",
          "name": "stdout",
          "text": [
            "camelCase\n"
          ]
        }
      ]
    },
    {
      "cell_type": "code",
      "source": [
        "# snake_case\n",
        "snake_case = \"SMIU Unversity\"\n",
        "print(snake_case)"
      ],
      "metadata": {
        "colab": {
          "base_uri": "https://localhost:8080/"
        },
        "id": "HXZC7UPIoAS6",
        "outputId": "3c066412-4e6c-4be6-e3ce-54b7d9f40bdb"
      },
      "execution_count": null,
      "outputs": [
        {
          "output_type": "stream",
          "name": "stdout",
          "text": [
            "SMIU Unversity\n"
          ]
        }
      ]
    },
    {
      "cell_type": "code",
      "source": [
        "# PascalCase\n",
        "MyFavoriteNum = 335\n",
        "print(MyFavoriteNum)"
      ],
      "metadata": {
        "colab": {
          "base_uri": "https://localhost:8080/"
        },
        "id": "r8PRHIIooEGM",
        "outputId": "2501171b-88ec-4bb9-f255-22a5febd1434"
      },
      "execution_count": null,
      "outputs": [
        {
          "output_type": "stream",
          "name": "stdout",
          "text": [
            "335\n"
          ]
        }
      ]
    },
    {
      "cell_type": "markdown",
      "source": [
        "Q4 .Write a Python program that declares a variable and prints its memory address using the id() function."
      ],
      "metadata": {
        "id": "W6XniOrFoowr"
      }
    },
    {
      "cell_type": "code",
      "source": [
        "x = 44\n",
        "print(f\"Num: {x}\")\n",
        "print(f\"Memory Adress: {id(x)}\")"
      ],
      "metadata": {
        "colab": {
          "base_uri": "https://localhost:8080/"
        },
        "id": "LnxaHaLOoiXT",
        "outputId": "2378601b-118b-436f-a624-7f4163932147"
      },
      "execution_count": null,
      "outputs": [
        {
          "output_type": "stream",
          "name": "stdout",
          "text": [
            "Num: 44\n",
            "Memory Adress: 135023390754384\n"
          ]
        }
      ]
    },
    {
      "cell_type": "markdown",
      "source": [
        "Q5.Write a Python program that takes user input and prints it."
      ],
      "metadata": {
        "id": "u4Y-XEQmrik9"
      }
    },
    {
      "cell_type": "code",
      "source": [
        "userInput = input(\"Enter your name: \")\n",
        "print(f\"Your Name: {userInput}\")"
      ],
      "metadata": {
        "colab": {
          "base_uri": "https://localhost:8080/"
        },
        "id": "Y7CrIHStoptI",
        "outputId": "ce9bdee2-0cde-4bb6-e4e4-f0059217d3cf"
      },
      "execution_count": null,
      "outputs": [
        {
          "output_type": "stream",
          "name": "stdout",
          "text": [
            "Enter your name: bilal\n",
            "Your Name: bilal\n"
          ]
        }
      ]
    },
    {
      "cell_type": "markdown",
      "source": [
        "Q6. Write a Python program to display the data types of different variables (e.g., integer, float, string)."
      ],
      "metadata": {
        "id": "7DjJEdgMr8be"
      }
    },
    {
      "cell_type": "code",
      "source": [
        "# Integer\n",
        "num_variable = 777\n",
        "print(f\"Num: {num}\")\n",
        "print(f\"Data Type: {type(num)}\")"
      ],
      "metadata": {
        "colab": {
          "base_uri": "https://localhost:8080/"
        },
        "id": "nkvR4F-OrszV",
        "outputId": "975fc56f-7631-4f6b-bb97-99d9a6786bb5"
      },
      "execution_count": null,
      "outputs": [
        {
          "output_type": "stream",
          "name": "stdout",
          "text": [
            "Num: 777\n",
            "Data Type: <class 'int'>\n"
          ]
        }
      ]
    },
    {
      "cell_type": "code",
      "source": [
        "# Float\n",
        "flaot_variable = 55.65\n",
        "print(f\"Float: {flaot_variable}\")\n",
        "print(f\"Data Type: {type(flaot_variable)}\")"
      ],
      "metadata": {
        "colab": {
          "base_uri": "https://localhost:8080/"
        },
        "id": "I5gyjhV8r-Wk",
        "outputId": "7ad79507-2601-457d-e8ed-18cf1e34f015"
      },
      "execution_count": null,
      "outputs": [
        {
          "output_type": "stream",
          "name": "stdout",
          "text": [
            "Float: 55.65\n",
            "Data Type: <class 'float'>\n"
          ]
        }
      ]
    },
    {
      "cell_type": "code",
      "source": [
        "# String\n",
        "string_variable = 55.65\n",
        "print(f\"Float: {string_variable}\")\n",
        "print(f\"Data Type: {type(string_variable)}\")"
      ],
      "metadata": {
        "colab": {
          "base_uri": "https://localhost:8080/"
        },
        "id": "eWceTm_Ksf-j",
        "outputId": "b394be10-2e0b-4a66-f0ac-b598b7f232a4"
      },
      "execution_count": null,
      "outputs": [
        {
          "output_type": "stream",
          "name": "stdout",
          "text": [
            "Float: 55.65\n",
            "Data Type: <class 'float'>\n"
          ]
        }
      ]
    },
    {
      "cell_type": "markdown",
      "source": [
        "Q7. Write a Python program that takes two numbers as input and performs addition and subtraction. Display the results."
      ],
      "metadata": {
        "id": "Pvfax06is2pd"
      }
    },
    {
      "cell_type": "code",
      "source": [
        "user_input1 = int(input(\"Enter first number: \"))\n",
        "user_input2 = int(input(\"Enter second number: \"))\n",
        "sum = user_input1 + user_input2\n",
        "difference = user_input1 - user_input2\n",
        "print(f\"The sum of {user_input1} and {user_input2} is {sum}\")\n",
        "print(f\"The differance of {user_input1} and {user_input2} is {difference}\")"
      ],
      "metadata": {
        "colab": {
          "base_uri": "https://localhost:8080/"
        },
        "id": "YIrCZnXdtAN7",
        "outputId": "0a3c3893-0a1f-4e7c-d5b7-300f3954ecb7"
      },
      "execution_count": null,
      "outputs": [
        {
          "output_type": "stream",
          "name": "stdout",
          "text": [
            "Enter first number: 5\n",
            "Enter second number: 6\n",
            "The sum of 5 and 6 is 11\n",
            "The differance of 5 and 6 is -1\n"
          ]
        }
      ]
    },
    {
      "cell_type": "markdown",
      "source": [
        "Q8. Write a Python program to demonstrate operator precedence. Use addition, subtraction, multiplication, and division in a single expression and show the result. (5 + 3 * 2 - 4 / 2)"
      ],
      "metadata": {
        "id": "asHd85HTv70g"
      }
    },
    {
      "cell_type": "code",
      "source": [
        "result = (5 + 3 * 2 - 4 / 2)\n",
        "print(result)\n",
        "\n",
        "# Reasoning:\n",
        "\n",
        "# 3 * 2 = 6\n",
        "# 4 / 2 = 2\n",
        "# 5 + 3 = 8\n",
        "# 11 - 2 = 9\n",
        "\n",
        "# Complete solution:\n",
        "# (5 + 6 - 2)\n",
        "# (11 - 2)\n",
        "# //output value (9)"
      ],
      "metadata": {
        "id": "wRLWzLantO5j",
        "colab": {
          "base_uri": "https://localhost:8080/"
        },
        "outputId": "067c820b-db91-4bbc-b187-64ab4e4c689b"
      },
      "execution_count": null,
      "outputs": [
        {
          "output_type": "stream",
          "name": "stdout",
          "text": [
            "9.0\n"
          ]
        }
      ]
    },
    {
      "cell_type": "markdown",
      "source": [
        "Q9. Write a  Python program to calculate the area of a rectangle based on user input for its length and width.\n",
        "Hint:  Take input from the user to enter the length of the rectangle.\n",
        "Take input from the user to enter the width of the rectangle.\n",
        "\n",
        "Formula:\n",
        "Area=length×width\n"
      ],
      "metadata": {
        "id": "44Xog8u-u3Vw"
      }
    },
    {
      "cell_type": "code",
      "source": [
        "user_input1 = int(input(\"Enter the length of the rectangle: \"))\n",
        "user_input2 = int(input(\"Enter the width of the rectangle: \"))\n",
        "area = user_input1 * user_input2\n",
        "print(f\"The area of the rectangle is {area}\")"
      ],
      "metadata": {
        "colab": {
          "base_uri": "https://localhost:8080/"
        },
        "id": "cy_tri8xu5Hf",
        "outputId": "80496eb4-e771-4ac8-dc65-51b283dabac6"
      },
      "execution_count": null,
      "outputs": [
        {
          "output_type": "stream",
          "name": "stdout",
          "text": [
            "Enter the length of the rectangle: 55\n",
            "Enter the width of the rectangle: 99\n",
            "The area of the rectangle is 5445\n"
          ]
        }
      ]
    },
    {
      "cell_type": "markdown",
      "source": [
        "Q10 .Write a Python program that performs the following steps:\n",
        "  \n",
        "  * Define a string vowels containing all lowercase vowels ('aeiou').\n",
        "  * Take input from the user to enter a letter (lowercase). Check if the entered letter is 'a' using membership operators (in or not in). Print True if the entered letter is 'a', otherwise print False.\n"
      ],
      "metadata": {
        "id": "pHQkz9u7xCTs"
      }
    },
    {
      "cell_type": "code",
      "source": [
        "#step 01\n",
        "vowels = \"aeiou\"\n",
        "user_input = input(\"Enter a letter: \").lower()\n",
        "if user_input in vowels:\n",
        "    print(\"True\")\n",
        "else:\n",
        "    print(\"False\")"
      ],
      "metadata": {
        "id": "vnpSLB4ZvIvQ",
        "colab": {
          "base_uri": "https://localhost:8080/"
        },
        "outputId": "7ebf0609-d35d-41c0-c69f-2f7233430a11"
      },
      "execution_count": null,
      "outputs": [
        {
          "output_type": "stream",
          "name": "stdout",
          "text": [
            "Enter a letter: LLK\n",
            "False\n"
          ]
        }
      ]
    },
    {
      "cell_type": "code",
      "source": [
        "#step # 2\n",
        "vowelsName = ['a','e','i','o','u']\n",
        "user_inputs = input(\"Enter a letter: \").lower()\n",
        "if user_inputs in vowelsName:\n",
        "    print(\"True\")\n",
        "else:\n",
        "    print(\"False\")"
      ],
      "metadata": {
        "id": "0rt9uhDFxQPW",
        "colab": {
          "base_uri": "https://localhost:8080/"
        },
        "outputId": "b4327fd5-8576-4359-fe1f-1dec792a2857"
      },
      "execution_count": null,
      "outputs": [
        {
          "output_type": "stream",
          "name": "stdout",
          "text": [
            "Enter a letter: a\n",
            "True\n"
          ]
        }
      ]
    },
    {
      "cell_type": "code",
      "source": [],
      "metadata": {
        "id": "N8bCw_oNJrub"
      },
      "execution_count": null,
      "outputs": []
    }
  ]
}