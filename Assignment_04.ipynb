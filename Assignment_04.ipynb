{
  "nbformat": 4,
  "nbformat_minor": 0,
  "metadata": {
    "colab": {
      "provenance": []
    },
    "kernelspec": {
      "name": "python3",
      "display_name": "Python 3"
    },
    "language_info": {
      "name": "python"
    }
  },
  "cells": [
    {
      "cell_type": "markdown",
      "source": [
        "**Assignment_04**"
      ],
      "metadata": {
        "id": "TD0xX9JSmplc"
      }
    },
    {
      "cell_type": "markdown",
      "source": [
        "**Q1. Write a program to check whether a number is divisible by 7 or not.**"
      ],
      "metadata": {
        "id": "5VFyqLuIiWLI"
      }
    },
    {
      "cell_type": "code",
      "source": [
        "def is_divisible_by_7(number):\n",
        "    if number % 7 == 0:\n",
        "        return True\n",
        "    else:\n",
        "        return False\n",
        "\n",
        "# Example usage\n",
        "number = 49\n",
        "print(f\"Is {number} divisible by 7? {is_divisible_by_7(number)}\")\n"
      ],
      "metadata": {
        "colab": {
          "base_uri": "https://localhost:8080/"
        },
        "id": "GtlEUmeJieRX",
        "outputId": "325f4d7a-bfa0-473d-f06e-5ffcfa2b40b2"
      },
      "execution_count": null,
      "outputs": [
        {
          "output_type": "stream",
          "name": "stdout",
          "text": [
            "Is 49 divisible by 7? True\n"
          ]
        }
      ]
    },
    {
      "cell_type": "code",
      "source": [
        "def is_divisible_by_7(number):\n",
        "    if number % 7 == 0:\n",
        "        return True\n",
        "    else:\n",
        "        return False\n",
        "\n",
        "# Example usage\n",
        "number = 59\n",
        "print(f\"Is {number} divisible by 7? {is_divisible_by_7(number)}\")\n"
      ],
      "metadata": {
        "colab": {
          "base_uri": "https://localhost:8080/"
        },
        "id": "eTij4JcQik4m",
        "outputId": "728d6c2a-542e-4bfa-f716-88f687f02062"
      },
      "execution_count": null,
      "outputs": [
        {
          "output_type": "stream",
          "name": "stdout",
          "text": [
            "Is 59 divisible by 7? False\n"
          ]
        }
      ]
    },
    {
      "cell_type": "markdown",
      "source": [
        "**Q2. Find the length of the text python and convert the value to float and convert it to string.**"
      ],
      "metadata": {
        "id": "42PzQvCCiopO"
      }
    },
    {
      "cell_type": "code",
      "source": [
        "text = \"python\"\n",
        "length = len(text)\n",
        "length_float = float(length)\n",
        "length_string = str(length_float)\n",
        "\n",
        "print(f\"Length of text 'python': {length}\")\n",
        "print(f\"Length as float: {length_float}\")\n",
        "print(f\"Length as string: {length_string}\")\n"
      ],
      "metadata": {
        "colab": {
          "base_uri": "https://localhost:8080/"
        },
        "id": "Hn-O0vhPiu8m",
        "outputId": "cd0e71da-4f83-4a44-8bf2-63fb623f7a2a"
      },
      "execution_count": null,
      "outputs": [
        {
          "output_type": "stream",
          "name": "stdout",
          "text": [
            "Length of text 'python': 6\n",
            "Length as float: 6.0\n",
            "Length as string: 6.0\n"
          ]
        }
      ]
    },
    {
      "cell_type": "markdown",
      "source": [
        "**Q3. Write a program to check whether a year is a leap year or not.**"
      ],
      "metadata": {
        "id": "djQu3b9Si3v4"
      }
    },
    {
      "cell_type": "code",
      "source": [
        "def is_leap_year(year):\n",
        "    if (year % 4 == 0 and year % 100 != 0) or (year % 400 == 0):\n",
        "        return True\n",
        "    else:\n",
        "        return False\n",
        "\n",
        "# Example usage\n",
        "year = 2020\n",
        "print(f\"Is {year} a leap year? {is_leap_year(year)}\")\n"
      ],
      "metadata": {
        "colab": {
          "base_uri": "https://localhost:8080/"
        },
        "id": "avS1nZeYjKRO",
        "outputId": "6df5f9b5-f4da-41ba-de55-8321dc720fb8"
      },
      "execution_count": null,
      "outputs": [
        {
          "output_type": "stream",
          "name": "stdout",
          "text": [
            "Is 2020 a leap year? True\n"
          ]
        }
      ]
    },
    {
      "cell_type": "code",
      "source": [
        "def is_leap_year(year):\n",
        "    if (year % 4 == 0 and year % 100 != 0) or (year % 400 == 0):\n",
        "        return True\n",
        "    else:\n",
        "        return False\n",
        "\n",
        "# Example usage\n",
        "year = 2025\n",
        "print(f\"Is {year} a leap year? {is_leap_year(year)}\")\n"
      ],
      "metadata": {
        "colab": {
          "base_uri": "https://localhost:8080/"
        },
        "id": "c3V23qHOjcfA",
        "outputId": "ef168914-6289-43b2-99ac-664346371b0b"
      },
      "execution_count": null,
      "outputs": [
        {
          "output_type": "stream",
          "name": "stdout",
          "text": [
            "Is 2025 a leap year? False\n"
          ]
        }
      ]
    },
    {
      "cell_type": "markdown",
      "source": [
        "**Q4. Write a program to check whether a number is prime or not.**"
      ],
      "metadata": {
        "id": "XXdxp5ELjKdO"
      }
    },
    {
      "cell_type": "code",
      "source": [
        "# num = 29\n",
        "num = int(input(\"Enter a number: \"))\n",
        "\n",
        "# define a flag variable\n",
        "flag = False\n",
        "\n",
        "if num == 1:\n",
        "    print(num, \"is not a prime number\")\n",
        "elif num > 1:\n",
        "    # check for factors\n",
        "    for i in range(2, num):\n",
        "        if (num % i) == 0:\n",
        "            # if factor is found, set flag to True\n",
        "            flag = True\n",
        "            # break out of loop\n",
        "            break\n",
        "\n",
        "    # check if flag is True\n",
        "    if flag:\n",
        "        print(num, \"is not a prime number\")\n",
        "    else:\n",
        "        print(num, \"is a prime number\")"
      ],
      "metadata": {
        "colab": {
          "base_uri": "https://localhost:8080/"
        },
        "id": "4EQFIwcyjUyu",
        "outputId": "3c7c7045-cbf6-44c3-9f83-0b6624b12cf9"
      },
      "execution_count": null,
      "outputs": [
        {
          "output_type": "stream",
          "name": "stdout",
          "text": [
            "Enter a number: 88\n",
            "88 is not a prime number\n"
          ]
        }
      ]
    },
    {
      "cell_type": "code",
      "source": [],
      "metadata": {
        "id": "PLUvJ8OZkXsU"
      },
      "execution_count": null,
      "outputs": []
    },
    {
      "cell_type": "markdown",
      "source": [
        "**Q5. Write a loop that makes seven calls to print(), so we get on the output the following triangle:**"
      ],
      "metadata": {
        "id": "BERiI4_NkcF-"
      }
    },
    {
      "cell_type": "code",
      "source": [
        "for i in range(1, 8):\n",
        "    print('#' * i)\n"
      ],
      "metadata": {
        "colab": {
          "base_uri": "https://localhost:8080/"
        },
        "collapsed": true,
        "id": "2oGnpIImkg6m",
        "outputId": "5d105586-6079-4bb6-b0db-eee4f1bb1cd2"
      },
      "execution_count": null,
      "outputs": [
        {
          "output_type": "stream",
          "name": "stdout",
          "text": [
            "#\n",
            "##\n",
            "###\n",
            "####\n",
            "#####\n",
            "######\n",
            "#######\n"
          ]
        }
      ]
    },
    {
      "cell_type": "markdown",
      "source": [
        "**Q6 .Use and operator to check if 'on' is found in both 'python' and 'dragon'**"
      ],
      "metadata": {
        "id": "3JQjCUgJk61c"
      }
    },
    {
      "cell_type": "code",
      "source": [
        "text1 = \"python\"\n",
        "text2 = \"dragon\"\n",
        "\n",
        "contains_on = 'on' in text1 and 'on' in text2\n",
        "print(f\"'on' is found in both 'python' and 'dragon': {contains_on}\")\n"
      ],
      "metadata": {
        "colab": {
          "base_uri": "https://localhost:8080/"
        },
        "collapsed": true,
        "id": "2MGYrC8jlJPV",
        "outputId": "f211f8c0-a476-4ff9-fb10-46ea4e1ba731"
      },
      "execution_count": null,
      "outputs": [
        {
          "output_type": "stream",
          "name": "stdout",
          "text": [
            "'on' is found in both 'python' and 'dragon': True\n"
          ]
        }
      ]
    }
  ]
}